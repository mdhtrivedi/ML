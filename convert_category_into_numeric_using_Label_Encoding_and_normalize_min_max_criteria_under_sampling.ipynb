{
  "cells": [
    {
      "cell_type": "code",
      "execution_count": null,
      "id": "ecf3ea0e-e9aa-4078-bd41-9dd59609625f",
      "metadata": {
        "id": "ecf3ea0e-e9aa-4078-bd41-9dd59609625f"
      },
      "outputs": [],
      "source": [
        "import  pandas as pd"
      ]
    },
    {
      "cell_type": "code",
      "execution_count": null,
      "id": "bda27bde-7567-4592-a87a-3ec72a295bd0",
      "metadata": {
        "id": "bda27bde-7567-4592-a87a-3ec72a295bd0"
      },
      "outputs": [],
      "source": [
        "import matplotlib.pyplot as plt"
      ]
    },
    {
      "cell_type": "code",
      "execution_count": null,
      "id": "70a157f3-a214-4093-8568-c77919f4ca49",
      "metadata": {
        "tags": [],
        "id": "70a157f3-a214-4093-8568-c77919f4ca49",
        "outputId": "2d6e424b-6de1-43ad-b4a6-eb91601352ba"
      },
      "outputs": [
        {
          "data": {
            "text/html": [
              "<div>\n",
              "<style scoped>\n",
              "    .dataframe tbody tr th:only-of-type {\n",
              "        vertical-align: middle;\n",
              "    }\n",
              "\n",
              "    .dataframe tbody tr th {\n",
              "        vertical-align: top;\n",
              "    }\n",
              "\n",
              "    .dataframe thead th {\n",
              "        text-align: right;\n",
              "    }\n",
              "</style>\n",
              "<table border=\"1\" class=\"dataframe\">\n",
              "  <thead>\n",
              "    <tr style=\"text-align: right;\">\n",
              "      <th></th>\n",
              "      <th>PassengerId</th>\n",
              "      <th>Survived</th>\n",
              "      <th>Pclass</th>\n",
              "      <th>Name</th>\n",
              "      <th>Sex</th>\n",
              "      <th>Age</th>\n",
              "      <th>SibSp</th>\n",
              "      <th>Parch</th>\n",
              "      <th>Ticket</th>\n",
              "      <th>Fare</th>\n",
              "      <th>Cabin</th>\n",
              "      <th>Embarked</th>\n",
              "    </tr>\n",
              "  </thead>\n",
              "  <tbody>\n",
              "    <tr>\n",
              "      <th>0</th>\n",
              "      <td>1</td>\n",
              "      <td>0</td>\n",
              "      <td>3</td>\n",
              "      <td>Braund, Mr. Owen Harris</td>\n",
              "      <td>male</td>\n",
              "      <td>22.0</td>\n",
              "      <td>1</td>\n",
              "      <td>0</td>\n",
              "      <td>A/5 21171</td>\n",
              "      <td>7.2500</td>\n",
              "      <td>NaN</td>\n",
              "      <td>S</td>\n",
              "    </tr>\n",
              "    <tr>\n",
              "      <th>1</th>\n",
              "      <td>2</td>\n",
              "      <td>1</td>\n",
              "      <td>1</td>\n",
              "      <td>Cumings, Mrs. John Bradley (Florence Briggs Th...</td>\n",
              "      <td>female</td>\n",
              "      <td>38.0</td>\n",
              "      <td>1</td>\n",
              "      <td>0</td>\n",
              "      <td>PC 17599</td>\n",
              "      <td>71.2833</td>\n",
              "      <td>C85</td>\n",
              "      <td>C</td>\n",
              "    </tr>\n",
              "    <tr>\n",
              "      <th>2</th>\n",
              "      <td>3</td>\n",
              "      <td>1</td>\n",
              "      <td>3</td>\n",
              "      <td>Heikkinen, Miss. Laina</td>\n",
              "      <td>female</td>\n",
              "      <td>26.0</td>\n",
              "      <td>0</td>\n",
              "      <td>0</td>\n",
              "      <td>STON/O2. 3101282</td>\n",
              "      <td>7.9250</td>\n",
              "      <td>NaN</td>\n",
              "      <td>S</td>\n",
              "    </tr>\n",
              "    <tr>\n",
              "      <th>3</th>\n",
              "      <td>4</td>\n",
              "      <td>1</td>\n",
              "      <td>1</td>\n",
              "      <td>Futrelle, Mrs. Jacques Heath (Lily May Peel)</td>\n",
              "      <td>female</td>\n",
              "      <td>35.0</td>\n",
              "      <td>1</td>\n",
              "      <td>0</td>\n",
              "      <td>113803</td>\n",
              "      <td>53.1000</td>\n",
              "      <td>C123</td>\n",
              "      <td>S</td>\n",
              "    </tr>\n",
              "    <tr>\n",
              "      <th>4</th>\n",
              "      <td>5</td>\n",
              "      <td>0</td>\n",
              "      <td>3</td>\n",
              "      <td>Allen, Mr. William Henry</td>\n",
              "      <td>male</td>\n",
              "      <td>35.0</td>\n",
              "      <td>0</td>\n",
              "      <td>0</td>\n",
              "      <td>373450</td>\n",
              "      <td>8.0500</td>\n",
              "      <td>NaN</td>\n",
              "      <td>S</td>\n",
              "    </tr>\n",
              "    <tr>\n",
              "      <th>...</th>\n",
              "      <td>...</td>\n",
              "      <td>...</td>\n",
              "      <td>...</td>\n",
              "      <td>...</td>\n",
              "      <td>...</td>\n",
              "      <td>...</td>\n",
              "      <td>...</td>\n",
              "      <td>...</td>\n",
              "      <td>...</td>\n",
              "      <td>...</td>\n",
              "      <td>...</td>\n",
              "      <td>...</td>\n",
              "    </tr>\n",
              "    <tr>\n",
              "      <th>886</th>\n",
              "      <td>887</td>\n",
              "      <td>0</td>\n",
              "      <td>2</td>\n",
              "      <td>Montvila, Rev. Juozas</td>\n",
              "      <td>male</td>\n",
              "      <td>27.0</td>\n",
              "      <td>0</td>\n",
              "      <td>0</td>\n",
              "      <td>211536</td>\n",
              "      <td>13.0000</td>\n",
              "      <td>NaN</td>\n",
              "      <td>S</td>\n",
              "    </tr>\n",
              "    <tr>\n",
              "      <th>887</th>\n",
              "      <td>888</td>\n",
              "      <td>1</td>\n",
              "      <td>1</td>\n",
              "      <td>Graham, Miss. Margaret Edith</td>\n",
              "      <td>female</td>\n",
              "      <td>19.0</td>\n",
              "      <td>0</td>\n",
              "      <td>0</td>\n",
              "      <td>112053</td>\n",
              "      <td>30.0000</td>\n",
              "      <td>B42</td>\n",
              "      <td>S</td>\n",
              "    </tr>\n",
              "    <tr>\n",
              "      <th>888</th>\n",
              "      <td>889</td>\n",
              "      <td>0</td>\n",
              "      <td>3</td>\n",
              "      <td>Johnston, Miss. Catherine Helen \"Carrie\"</td>\n",
              "      <td>female</td>\n",
              "      <td>NaN</td>\n",
              "      <td>1</td>\n",
              "      <td>2</td>\n",
              "      <td>W./C. 6607</td>\n",
              "      <td>23.4500</td>\n",
              "      <td>NaN</td>\n",
              "      <td>S</td>\n",
              "    </tr>\n",
              "    <tr>\n",
              "      <th>889</th>\n",
              "      <td>890</td>\n",
              "      <td>1</td>\n",
              "      <td>1</td>\n",
              "      <td>Behr, Mr. Karl Howell</td>\n",
              "      <td>male</td>\n",
              "      <td>26.0</td>\n",
              "      <td>0</td>\n",
              "      <td>0</td>\n",
              "      <td>111369</td>\n",
              "      <td>30.0000</td>\n",
              "      <td>C148</td>\n",
              "      <td>C</td>\n",
              "    </tr>\n",
              "    <tr>\n",
              "      <th>890</th>\n",
              "      <td>891</td>\n",
              "      <td>0</td>\n",
              "      <td>3</td>\n",
              "      <td>Dooley, Mr. Patrick</td>\n",
              "      <td>male</td>\n",
              "      <td>32.0</td>\n",
              "      <td>0</td>\n",
              "      <td>0</td>\n",
              "      <td>370376</td>\n",
              "      <td>7.7500</td>\n",
              "      <td>NaN</td>\n",
              "      <td>Q</td>\n",
              "    </tr>\n",
              "  </tbody>\n",
              "</table>\n",
              "<p>891 rows × 12 columns</p>\n",
              "</div>"
            ],
            "text/plain": [
              "     PassengerId  Survived  Pclass  \\\n",
              "0              1         0       3   \n",
              "1              2         1       1   \n",
              "2              3         1       3   \n",
              "3              4         1       1   \n",
              "4              5         0       3   \n",
              "..           ...       ...     ...   \n",
              "886          887         0       2   \n",
              "887          888         1       1   \n",
              "888          889         0       3   \n",
              "889          890         1       1   \n",
              "890          891         0       3   \n",
              "\n",
              "                                                  Name     Sex   Age  SibSp  \\\n",
              "0                              Braund, Mr. Owen Harris    male  22.0      1   \n",
              "1    Cumings, Mrs. John Bradley (Florence Briggs Th...  female  38.0      1   \n",
              "2                               Heikkinen, Miss. Laina  female  26.0      0   \n",
              "3         Futrelle, Mrs. Jacques Heath (Lily May Peel)  female  35.0      1   \n",
              "4                             Allen, Mr. William Henry    male  35.0      0   \n",
              "..                                                 ...     ...   ...    ...   \n",
              "886                              Montvila, Rev. Juozas    male  27.0      0   \n",
              "887                       Graham, Miss. Margaret Edith  female  19.0      0   \n",
              "888           Johnston, Miss. Catherine Helen \"Carrie\"  female   NaN      1   \n",
              "889                              Behr, Mr. Karl Howell    male  26.0      0   \n",
              "890                                Dooley, Mr. Patrick    male  32.0      0   \n",
              "\n",
              "     Parch            Ticket     Fare Cabin Embarked  \n",
              "0        0         A/5 21171   7.2500   NaN        S  \n",
              "1        0          PC 17599  71.2833   C85        C  \n",
              "2        0  STON/O2. 3101282   7.9250   NaN        S  \n",
              "3        0            113803  53.1000  C123        S  \n",
              "4        0            373450   8.0500   NaN        S  \n",
              "..     ...               ...      ...   ...      ...  \n",
              "886      0            211536  13.0000   NaN        S  \n",
              "887      0            112053  30.0000   B42        S  \n",
              "888      2        W./C. 6607  23.4500   NaN        S  \n",
              "889      0            111369  30.0000  C148        C  \n",
              "890      0            370376   7.7500   NaN        Q  \n",
              "\n",
              "[891 rows x 12 columns]"
            ]
          },
          "execution_count": 145,
          "metadata": {},
          "output_type": "execute_result"
        }
      ],
      "source": [
        "df = pd.read_csv(\"C:/Users/Savita Seharawat/Desktop/data sets/titanic.csv\")\n",
        "df"
      ]
    },
    {
      "cell_type": "code",
      "execution_count": null,
      "id": "2d671107-65a1-42d2-b375-4da17442ec98",
      "metadata": {
        "id": "2d671107-65a1-42d2-b375-4da17442ec98",
        "outputId": "68bbd967-d015-4664-e4bc-8418a262a7e0"
      },
      "outputs": [
        {
          "data": {
            "text/html": [
              "<div>\n",
              "<style scoped>\n",
              "    .dataframe tbody tr th:only-of-type {\n",
              "        vertical-align: middle;\n",
              "    }\n",
              "\n",
              "    .dataframe tbody tr th {\n",
              "        vertical-align: top;\n",
              "    }\n",
              "\n",
              "    .dataframe thead th {\n",
              "        text-align: right;\n",
              "    }\n",
              "</style>\n",
              "<table border=\"1\" class=\"dataframe\">\n",
              "  <thead>\n",
              "    <tr style=\"text-align: right;\">\n",
              "      <th></th>\n",
              "      <th>count</th>\n",
              "      <th>mean</th>\n",
              "      <th>std</th>\n",
              "      <th>min</th>\n",
              "      <th>25%</th>\n",
              "      <th>50%</th>\n",
              "      <th>75%</th>\n",
              "      <th>max</th>\n",
              "    </tr>\n",
              "  </thead>\n",
              "  <tbody>\n",
              "    <tr>\n",
              "      <th>PassengerId</th>\n",
              "      <td>891.0</td>\n",
              "      <td>446.000000</td>\n",
              "      <td>257.353842</td>\n",
              "      <td>1.00</td>\n",
              "      <td>223.5000</td>\n",
              "      <td>446.0000</td>\n",
              "      <td>668.5</td>\n",
              "      <td>891.0000</td>\n",
              "    </tr>\n",
              "    <tr>\n",
              "      <th>Survived</th>\n",
              "      <td>891.0</td>\n",
              "      <td>0.383838</td>\n",
              "      <td>0.486592</td>\n",
              "      <td>0.00</td>\n",
              "      <td>0.0000</td>\n",
              "      <td>0.0000</td>\n",
              "      <td>1.0</td>\n",
              "      <td>1.0000</td>\n",
              "    </tr>\n",
              "    <tr>\n",
              "      <th>Pclass</th>\n",
              "      <td>891.0</td>\n",
              "      <td>2.308642</td>\n",
              "      <td>0.836071</td>\n",
              "      <td>1.00</td>\n",
              "      <td>2.0000</td>\n",
              "      <td>3.0000</td>\n",
              "      <td>3.0</td>\n",
              "      <td>3.0000</td>\n",
              "    </tr>\n",
              "    <tr>\n",
              "      <th>Age</th>\n",
              "      <td>714.0</td>\n",
              "      <td>29.699118</td>\n",
              "      <td>14.526497</td>\n",
              "      <td>0.42</td>\n",
              "      <td>20.1250</td>\n",
              "      <td>28.0000</td>\n",
              "      <td>38.0</td>\n",
              "      <td>80.0000</td>\n",
              "    </tr>\n",
              "    <tr>\n",
              "      <th>SibSp</th>\n",
              "      <td>891.0</td>\n",
              "      <td>0.523008</td>\n",
              "      <td>1.102743</td>\n",
              "      <td>0.00</td>\n",
              "      <td>0.0000</td>\n",
              "      <td>0.0000</td>\n",
              "      <td>1.0</td>\n",
              "      <td>8.0000</td>\n",
              "    </tr>\n",
              "    <tr>\n",
              "      <th>Parch</th>\n",
              "      <td>891.0</td>\n",
              "      <td>0.381594</td>\n",
              "      <td>0.806057</td>\n",
              "      <td>0.00</td>\n",
              "      <td>0.0000</td>\n",
              "      <td>0.0000</td>\n",
              "      <td>0.0</td>\n",
              "      <td>6.0000</td>\n",
              "    </tr>\n",
              "    <tr>\n",
              "      <th>Fare</th>\n",
              "      <td>891.0</td>\n",
              "      <td>32.204208</td>\n",
              "      <td>49.693429</td>\n",
              "      <td>0.00</td>\n",
              "      <td>7.9104</td>\n",
              "      <td>14.4542</td>\n",
              "      <td>31.0</td>\n",
              "      <td>512.3292</td>\n",
              "    </tr>\n",
              "  </tbody>\n",
              "</table>\n",
              "</div>"
            ],
            "text/plain": [
              "             count        mean         std   min       25%       50%    75%  \\\n",
              "PassengerId  891.0  446.000000  257.353842  1.00  223.5000  446.0000  668.5   \n",
              "Survived     891.0    0.383838    0.486592  0.00    0.0000    0.0000    1.0   \n",
              "Pclass       891.0    2.308642    0.836071  1.00    2.0000    3.0000    3.0   \n",
              "Age          714.0   29.699118   14.526497  0.42   20.1250   28.0000   38.0   \n",
              "SibSp        891.0    0.523008    1.102743  0.00    0.0000    0.0000    1.0   \n",
              "Parch        891.0    0.381594    0.806057  0.00    0.0000    0.0000    0.0   \n",
              "Fare         891.0   32.204208   49.693429  0.00    7.9104   14.4542   31.0   \n",
              "\n",
              "                  max  \n",
              "PassengerId  891.0000  \n",
              "Survived       1.0000  \n",
              "Pclass         3.0000  \n",
              "Age           80.0000  \n",
              "SibSp          8.0000  \n",
              "Parch          6.0000  \n",
              "Fare         512.3292  "
            ]
          },
          "execution_count": 146,
          "metadata": {},
          "output_type": "execute_result"
        }
      ],
      "source": [
        "df.describe().T"
      ]
    },
    {
      "cell_type": "code",
      "execution_count": null,
      "id": "e56d94e4-879a-467d-996f-fbc57949c159",
      "metadata": {
        "tags": [],
        "id": "e56d94e4-879a-467d-996f-fbc57949c159",
        "outputId": "d2d282db-384f-4381-d2be-d1187d58fb61"
      },
      "outputs": [
        {
          "data": {
            "text/plain": [
              "Index(['PassengerId', 'Survived', 'Pclass', 'Name', 'Sex', 'Age', 'SibSp',\n",
              "       'Parch', 'Ticket', 'Fare', 'Cabin', 'Embarked'],\n",
              "      dtype='object')"
            ]
          },
          "execution_count": 147,
          "metadata": {},
          "output_type": "execute_result"
        }
      ],
      "source": [
        "df.columns"
      ]
    },
    {
      "cell_type": "code",
      "execution_count": null,
      "id": "4d5475ae-5b7b-42e2-9108-415da309db66",
      "metadata": {
        "tags": [],
        "id": "4d5475ae-5b7b-42e2-9108-415da309db66",
        "outputId": "059d5b6e-8dce-4dec-c4ae-31822f36b971"
      },
      "outputs": [
        {
          "data": {
            "text/plain": [
              "PassengerId      int64\n",
              "Survived         int64\n",
              "Pclass           int64\n",
              "Name            object\n",
              "Sex             object\n",
              "Age            float64\n",
              "SibSp            int64\n",
              "Parch            int64\n",
              "Ticket          object\n",
              "Fare           float64\n",
              "Cabin           object\n",
              "Embarked        object\n",
              "dtype: object"
            ]
          },
          "execution_count": 148,
          "metadata": {},
          "output_type": "execute_result"
        }
      ],
      "source": [
        "df.dtypes"
      ]
    },
    {
      "cell_type": "code",
      "execution_count": null,
      "id": "63969da6-a175-420d-b03a-1074f107174c",
      "metadata": {
        "id": "63969da6-a175-420d-b03a-1074f107174c"
      },
      "outputs": [],
      "source": [
        "numeric = []\n",
        "category = []\n",
        "for col in df:\n",
        "    if pd.api.types.is_numeric_dtype(df[col]):\n",
        "        numeric.append(col)\n",
        "    else:\n",
        "        category.append(col)"
      ]
    },
    {
      "cell_type": "code",
      "execution_count": null,
      "id": "8a8ea470-be20-47e8-b5d7-5b2a4578f08e",
      "metadata": {
        "id": "8a8ea470-be20-47e8-b5d7-5b2a4578f08e",
        "outputId": "c83c7c6b-5761-4d0e-9a77-f6c1ac0d9e22"
      },
      "outputs": [
        {
          "data": {
            "text/plain": [
              "['PassengerId', 'Survived', 'Pclass', 'Age', 'SibSp', 'Parch', 'Fare']"
            ]
          },
          "execution_count": 150,
          "metadata": {},
          "output_type": "execute_result"
        }
      ],
      "source": [
        "numeric"
      ]
    },
    {
      "cell_type": "code",
      "execution_count": null,
      "id": "6c79d6c4-bf8a-4367-afe3-45139c6fc483",
      "metadata": {
        "id": "6c79d6c4-bf8a-4367-afe3-45139c6fc483",
        "outputId": "e2fd57a1-8f96-47d6-ac15-ff2141213f77"
      },
      "outputs": [
        {
          "data": {
            "text/plain": [
              "['Name', 'Sex', 'Ticket', 'Cabin', 'Embarked']"
            ]
          },
          "execution_count": 151,
          "metadata": {},
          "output_type": "execute_result"
        }
      ],
      "source": [
        "category"
      ]
    },
    {
      "cell_type": "code",
      "execution_count": null,
      "id": "99b735a8-bd3f-42a9-ac0b-70c7dd63c84a",
      "metadata": {
        "id": "99b735a8-bd3f-42a9-ac0b-70c7dd63c84a",
        "outputId": "3fb2fb6b-a8a1-41da-bca4-73fd4122edbd"
      },
      "outputs": [
        {
          "data": {
            "text/plain": [
              "866"
            ]
          },
          "execution_count": 152,
          "metadata": {},
          "output_type": "execute_result"
        }
      ],
      "source": [
        "df.isnull().sum().sum()"
      ]
    },
    {
      "cell_type": "code",
      "execution_count": null,
      "id": "e1befe8b-3648-4180-8fd5-93eb2f03b55d",
      "metadata": {
        "id": "e1befe8b-3648-4180-8fd5-93eb2f03b55d"
      },
      "outputs": [],
      "source": [
        "df = df.dropna()"
      ]
    },
    {
      "cell_type": "code",
      "execution_count": null,
      "id": "9bf856ba-ec0d-48d3-98e7-2252024bccae",
      "metadata": {
        "id": "9bf856ba-ec0d-48d3-98e7-2252024bccae"
      },
      "outputs": [],
      "source": []
    },
    {
      "cell_type": "code",
      "execution_count": null,
      "id": "848d5ad9-0ea2-4fa8-b3cf-feda2484576f",
      "metadata": {
        "id": "848d5ad9-0ea2-4fa8-b3cf-feda2484576f"
      },
      "outputs": [],
      "source": [
        "df = df.drop([\"PassengerId\",\"Name\",\"Ticket\"] , axis =1)"
      ]
    },
    {
      "cell_type": "code",
      "execution_count": null,
      "id": "26970525-8335-4ca1-8e3d-c75b3c3886ea",
      "metadata": {
        "tags": [],
        "id": "26970525-8335-4ca1-8e3d-c75b3c3886ea",
        "outputId": "e5386d30-0179-461a-8d27-63fba945f09d"
      },
      "outputs": [
        {
          "data": {
            "text/html": [
              "<div>\n",
              "<style scoped>\n",
              "    .dataframe tbody tr th:only-of-type {\n",
              "        vertical-align: middle;\n",
              "    }\n",
              "\n",
              "    .dataframe tbody tr th {\n",
              "        vertical-align: top;\n",
              "    }\n",
              "\n",
              "    .dataframe thead th {\n",
              "        text-align: right;\n",
              "    }\n",
              "</style>\n",
              "<table border=\"1\" class=\"dataframe\">\n",
              "  <thead>\n",
              "    <tr style=\"text-align: right;\">\n",
              "      <th></th>\n",
              "      <th>Survived</th>\n",
              "      <th>Pclass</th>\n",
              "      <th>Sex</th>\n",
              "      <th>Age</th>\n",
              "      <th>SibSp</th>\n",
              "      <th>Parch</th>\n",
              "      <th>Fare</th>\n",
              "      <th>Cabin</th>\n",
              "      <th>Embarked</th>\n",
              "    </tr>\n",
              "  </thead>\n",
              "  <tbody>\n",
              "    <tr>\n",
              "      <th>1</th>\n",
              "      <td>1</td>\n",
              "      <td>1</td>\n",
              "      <td>female</td>\n",
              "      <td>38.0</td>\n",
              "      <td>1</td>\n",
              "      <td>0</td>\n",
              "      <td>71.2833</td>\n",
              "      <td>C85</td>\n",
              "      <td>C</td>\n",
              "    </tr>\n",
              "    <tr>\n",
              "      <th>3</th>\n",
              "      <td>1</td>\n",
              "      <td>1</td>\n",
              "      <td>female</td>\n",
              "      <td>35.0</td>\n",
              "      <td>1</td>\n",
              "      <td>0</td>\n",
              "      <td>53.1000</td>\n",
              "      <td>C123</td>\n",
              "      <td>S</td>\n",
              "    </tr>\n",
              "    <tr>\n",
              "      <th>6</th>\n",
              "      <td>0</td>\n",
              "      <td>1</td>\n",
              "      <td>male</td>\n",
              "      <td>54.0</td>\n",
              "      <td>0</td>\n",
              "      <td>0</td>\n",
              "      <td>51.8625</td>\n",
              "      <td>E46</td>\n",
              "      <td>S</td>\n",
              "    </tr>\n",
              "  </tbody>\n",
              "</table>\n",
              "</div>"
            ],
            "text/plain": [
              "   Survived  Pclass     Sex   Age  SibSp  Parch     Fare Cabin Embarked\n",
              "1         1       1  female  38.0      1      0  71.2833   C85        C\n",
              "3         1       1  female  35.0      1      0  53.1000  C123        S\n",
              "6         0       1    male  54.0      0      0  51.8625   E46        S"
            ]
          },
          "execution_count": 155,
          "metadata": {},
          "output_type": "execute_result"
        }
      ],
      "source": [
        "df.head(3)"
      ]
    },
    {
      "cell_type": "code",
      "execution_count": null,
      "id": "72b4f7e8-b70e-45c4-a2b5-50b8b35750cd",
      "metadata": {
        "id": "72b4f7e8-b70e-45c4-a2b5-50b8b35750cd",
        "outputId": "775a2b17-a8d9-49bd-e588-157b896d8644"
      },
      "outputs": [
        {
          "data": {
            "text/plain": [
              "Survived      int64\n",
              "Pclass        int64\n",
              "Sex          object\n",
              "Age         float64\n",
              "SibSp         int64\n",
              "Parch         int64\n",
              "Fare        float64\n",
              "Cabin        object\n",
              "Embarked     object\n",
              "dtype: object"
            ]
          },
          "execution_count": 156,
          "metadata": {},
          "output_type": "execute_result"
        }
      ],
      "source": [
        "df.dtypes"
      ]
    },
    {
      "cell_type": "code",
      "execution_count": null,
      "id": "da367d00-aa46-405a-9144-ea641ac5d6f7",
      "metadata": {
        "id": "da367d00-aa46-405a-9144-ea641ac5d6f7"
      },
      "outputs": [],
      "source": [
        "df[\"Sex\"] = df[\"Sex\"].astype(\"category\")\n",
        "df[\"Cabin\"] = df[\"Cabin\"].astype(\"category\")\n",
        "df[\"Embarked\"] = df[\"Embarked\"].astype(\"category\")"
      ]
    },
    {
      "cell_type": "markdown",
      "id": "aff61ebe-1502-4c11-9e5c-11d3021385cf",
      "metadata": {
        "id": "aff61ebe-1502-4c11-9e5c-11d3021385cf"
      },
      "source": [
        "## The enumerate() function takes a collection (e.g. a tuple) and returns it as an enumerate object.\n",
        "\n",
        "### The enumerate() function adds a counter as the key of the enumerate object."
      ]
    },
    {
      "cell_type": "markdown",
      "id": "f9d90d5d-719e-4458-bdf8-e3d00e20314d",
      "metadata": {
        "id": "f9d90d5d-719e-4458-bdf8-e3d00e20314d"
      },
      "source": [
        "enumerate(iterable, start)"
      ]
    },
    {
      "cell_type": "code",
      "execution_count": null,
      "id": "34fe27dc-dd3c-4a21-8915-65aee013ccf6",
      "metadata": {
        "id": "34fe27dc-dd3c-4a21-8915-65aee013ccf6",
        "outputId": "28b5015b-e3db-4ffc-e693-a1639db566f1"
      },
      "outputs": [
        {
          "data": {
            "text/plain": [
              "Index(['female', 'male'], dtype='object')"
            ]
          },
          "execution_count": 158,
          "metadata": {},
          "output_type": "execute_result"
        }
      ],
      "source": [
        "df[\"Sex\"].cat.categories"
      ]
    },
    {
      "cell_type": "code",
      "execution_count": null,
      "id": "9448596e-3904-44ba-ac61-bd81f3904b8c",
      "metadata": {
        "id": "9448596e-3904-44ba-ac61-bd81f3904b8c",
        "outputId": "a9889d08-5764-44e2-f726-131d32660c6e"
      },
      "outputs": [
        {
          "data": {
            "text/plain": [
              "Index(['female', 'male'], dtype='object')"
            ]
          },
          "execution_count": 159,
          "metadata": {},
          "output_type": "execute_result"
        }
      ],
      "source": [
        "df[\"Sex\"].cat.categories"
      ]
    },
    {
      "cell_type": "code",
      "execution_count": null,
      "id": "d32dfcb8-557e-408e-9e7c-1e987c047fcd",
      "metadata": {
        "id": "d32dfcb8-557e-408e-9e7c-1e987c047fcd",
        "outputId": "5a88badd-2aee-47d4-b7bd-f576b89595de"
      },
      "outputs": [
        {
          "data": {
            "text/plain": [
              "<enumerate at 0x1398ea2e280>"
            ]
          },
          "execution_count": 160,
          "metadata": {},
          "output_type": "execute_result"
        }
      ],
      "source": [
        "enumerate(df[\"Sex\"].cat.categories,2)"
      ]
    },
    {
      "cell_type": "code",
      "execution_count": null,
      "id": "c62fa8bc-b516-4aa1-aa2b-781a3454ff3c",
      "metadata": {
        "id": "c62fa8bc-b516-4aa1-aa2b-781a3454ff3c",
        "outputId": "bb97cc3d-e722-4eab-e4b1-f1bc558325b1"
      },
      "outputs": [
        {
          "data": {
            "text/plain": [
              "{2: 'female', 3: 'male'}"
            ]
          },
          "execution_count": 161,
          "metadata": {},
          "output_type": "execute_result"
        }
      ],
      "source": [
        "dict(enumerate(df[\"Sex\"].cat.categories,2))"
      ]
    },
    {
      "cell_type": "code",
      "execution_count": null,
      "id": "6d16f938-7f51-47a4-b5ee-226fc69dba61",
      "metadata": {
        "id": "6d16f938-7f51-47a4-b5ee-226fc69dba61"
      },
      "outputs": [],
      "source": [
        "x = ('apple', 'banana', 'cherry')\n",
        "y = enumerate(x)"
      ]
    },
    {
      "cell_type": "code",
      "execution_count": null,
      "id": "bf354841-8361-4f40-beaf-bcd1da7b76f8",
      "metadata": {
        "id": "bf354841-8361-4f40-beaf-bcd1da7b76f8"
      },
      "outputs": [],
      "source": [
        "x = ('apple',  'cherry','banana')"
      ]
    },
    {
      "cell_type": "code",
      "execution_count": null,
      "id": "be8a161e-71ee-4b4b-afee-738b8bf062df",
      "metadata": {
        "id": "be8a161e-71ee-4b4b-afee-738b8bf062df"
      },
      "outputs": [],
      "source": [
        "y = enumerate(x,1)"
      ]
    },
    {
      "cell_type": "code",
      "execution_count": null,
      "id": "7515c7c4-e3ec-4155-8c4e-fea57af8af19",
      "metadata": {
        "id": "7515c7c4-e3ec-4155-8c4e-fea57af8af19",
        "outputId": "68c1b2dc-b3b3-4136-b600-cef1781496d8"
      },
      "outputs": [
        {
          "data": {
            "text/plain": [
              "<enumerate at 0x1398ea33080>"
            ]
          },
          "execution_count": 165,
          "metadata": {},
          "output_type": "execute_result"
        }
      ],
      "source": [
        "y"
      ]
    },
    {
      "cell_type": "code",
      "execution_count": null,
      "id": "7bf0d108-63e0-4629-a280-08dc1688db65",
      "metadata": {
        "id": "7bf0d108-63e0-4629-a280-08dc1688db65",
        "outputId": "5202df8d-538e-45cc-ed40-de60ea30e671"
      },
      "outputs": [
        {
          "data": {
            "text/plain": [
              "{1: 'apple', 2: 'cherry', 3: 'banana'}"
            ]
          },
          "execution_count": 166,
          "metadata": {},
          "output_type": "execute_result"
        }
      ],
      "source": [
        "dict(y)"
      ]
    },
    {
      "cell_type": "code",
      "execution_count": null,
      "id": "caec38ed-ec35-43e6-aaac-3539b8490894",
      "metadata": {
        "id": "caec38ed-ec35-43e6-aaac-3539b8490894",
        "outputId": "3526adc6-19fe-447c-da32-f3961f1695c4"
      },
      "outputs": [
        {
          "data": {
            "text/plain": [
              "<enumerate at 0x1398ea33a80>"
            ]
          },
          "execution_count": 167,
          "metadata": {},
          "output_type": "execute_result"
        }
      ],
      "source": [
        "enumerate(df[\"Sex\"].cat.categories)"
      ]
    },
    {
      "cell_type": "code",
      "execution_count": null,
      "id": "63fb5e80-c5f0-499a-8028-951518fa6380",
      "metadata": {
        "id": "63fb5e80-c5f0-499a-8028-951518fa6380",
        "outputId": "72114dbe-873e-4a2f-9c67-a41c40396e3b"
      },
      "outputs": [
        {
          "data": {
            "text/plain": [
              "{0: 'female', 1: 'male'}"
            ]
          },
          "execution_count": 168,
          "metadata": {},
          "output_type": "execute_result"
        }
      ],
      "source": [
        "dict(enumerate(df[\"Sex\"].cat.categories))"
      ]
    },
    {
      "cell_type": "code",
      "execution_count": null,
      "id": "0a9e1027-623d-4b98-acd0-d7238cab0918",
      "metadata": {
        "id": "0a9e1027-623d-4b98-acd0-d7238cab0918",
        "outputId": "3e2b15f2-c736-45f0-bac8-169da4507ca0"
      },
      "outputs": [
        {
          "data": {
            "text/plain": [
              "Index(['female', 'male'], dtype='object')"
            ]
          },
          "execution_count": 169,
          "metadata": {},
          "output_type": "execute_result"
        }
      ],
      "source": [
        "df[\"Sex\"].cat.categories"
      ]
    },
    {
      "cell_type": "code",
      "execution_count": null,
      "id": "5f38d148-d199-41fa-a54d-21104bb3a6c4",
      "metadata": {
        "id": "5f38d148-d199-41fa-a54d-21104bb3a6c4",
        "outputId": "f9ed21fe-2721-4271-b208-f52b2afa1cb1"
      },
      "outputs": [
        {
          "data": {
            "text/plain": [
              "1      0\n",
              "3      0\n",
              "6      1\n",
              "10     0\n",
              "11     0\n",
              "      ..\n",
              "871    0\n",
              "872    1\n",
              "879    0\n",
              "887    0\n",
              "889    1\n",
              "Length: 183, dtype: int8"
            ]
          },
          "execution_count": 170,
          "metadata": {},
          "output_type": "execute_result"
        }
      ],
      "source": [
        "df[\"Sex\"].cat.codes"
      ]
    },
    {
      "cell_type": "markdown",
      "id": "b78b95ae-2713-4019-ac7d-fbd4f5ba4f98",
      "metadata": {
        "id": "b78b95ae-2713-4019-ac7d-fbd4f5ba4f98"
      },
      "source": [
        "##  Label Encoding"
      ]
    },
    {
      "cell_type": "code",
      "execution_count": null,
      "id": "a169155c-6761-41a8-b4ea-ad1eb8c474ba",
      "metadata": {
        "id": "a169155c-6761-41a8-b4ea-ad1eb8c474ba",
        "outputId": "e01042e1-0e98-48cc-8397-be8d7064f1d7"
      },
      "outputs": [
        {
          "data": {
            "text/plain": [
              "{0: 'C', 1: 'Q', 2: 'S'}"
            ]
          },
          "execution_count": 171,
          "metadata": {},
          "output_type": "execute_result"
        }
      ],
      "source": [
        "SexDictionary = dict(enumerate(df[\"Sex\"].cat.categories))\n",
        "SexDictionary\n",
        "CabinDictionary = dict(enumerate(df[\"Cabin\"].cat.categories))\n",
        "CabinDictionary\n",
        "EmbarkedDictionary = dict(enumerate(df[\"Embarked\"].cat.categories))\n",
        "EmbarkedDictionary"
      ]
    },
    {
      "cell_type": "code",
      "execution_count": null,
      "id": "bf2277e8-a5ee-4f72-8e93-e6da0acc0093",
      "metadata": {
        "id": "bf2277e8-a5ee-4f72-8e93-e6da0acc0093",
        "outputId": "c1de9640-ca40-4bd2-9bb4-2e266f7f2988"
      },
      "outputs": [
        {
          "data": {
            "text/plain": [
              "{0: 'female', 1: 'male'}"
            ]
          },
          "execution_count": 172,
          "metadata": {},
          "output_type": "execute_result"
        }
      ],
      "source": [
        "SexDictionary = dict(enumerate(df[\"Sex\"].cat.categories))\n",
        "SexDictionary"
      ]
    },
    {
      "cell_type": "code",
      "execution_count": null,
      "id": "3ebadb8a-7dbf-40c1-9908-a1f19094d476",
      "metadata": {
        "id": "3ebadb8a-7dbf-40c1-9908-a1f19094d476"
      },
      "outputs": [],
      "source": [
        "df[\"Sex\"]  = df[\"Sex\"].cat.codes"
      ]
    },
    {
      "cell_type": "code",
      "execution_count": null,
      "id": "bb7c4a69-332b-4f11-a13d-de0aeb3276e7",
      "metadata": {
        "id": "bb7c4a69-332b-4f11-a13d-de0aeb3276e7",
        "outputId": "660d0a3d-e552-4b7f-a4fb-ad156a6a2297"
      },
      "outputs": [
        {
          "data": {
            "text/plain": [
              "dtype('int8')"
            ]
          },
          "execution_count": 174,
          "metadata": {},
          "output_type": "execute_result"
        }
      ],
      "source": [
        "df[\"Sex\"] .dtypes"
      ]
    },
    {
      "cell_type": "code",
      "execution_count": null,
      "id": "312b45d9-cb02-446c-8470-8ffaa02f0163",
      "metadata": {
        "id": "312b45d9-cb02-446c-8470-8ffaa02f0163",
        "outputId": "d46a7b7e-d606-47d9-8efb-567cec737960"
      },
      "outputs": [
        {
          "data": {
            "text/plain": [
              "array([0, 1], dtype=int8)"
            ]
          },
          "execution_count": 175,
          "metadata": {},
          "output_type": "execute_result"
        }
      ],
      "source": [
        "df[\"Sex\"].unique()"
      ]
    },
    {
      "cell_type": "code",
      "execution_count": null,
      "id": "101a1016-0c56-4eda-afa0-a3ade8c358db",
      "metadata": {
        "id": "101a1016-0c56-4eda-afa0-a3ade8c358db"
      },
      "outputs": [],
      "source": [
        "df[\"Cabin\"] = df[\"Cabin\"].cat.codes"
      ]
    },
    {
      "cell_type": "code",
      "execution_count": null,
      "id": "93503408-03f7-4d64-8ac0-15910efdc627",
      "metadata": {
        "tags": [],
        "id": "93503408-03f7-4d64-8ac0-15910efdc627",
        "outputId": "c5de4d9d-8001-4d58-b336-fd0766a933a2"
      },
      "outputs": [
        {
          "data": {
            "text/plain": [
              "array([ 72,  48, 117, 131,  43,  99,  10,  55,  90,  18,  71, 129, 127,\n",
              "       110,   9,  81,  87,  45,  31, 104,  95,  39, 128,  53,  14,  11,\n",
              "        60, 130,  23,  37,   6,  92,  83,  78,  69,  91,  74,  35, 122,\n",
              "        40,  50,  79,  47, 101,  26,  80,  54,  65, 113,  63,  30,  67,\n",
              "       112,  57,  13,  49,  76, 115, 132, 111,  93,  19, 119,  70,  41,\n",
              "       103,  62, 116,   7,  44,  46,  77, 114, 105, 121,  20,  56,  86,\n",
              "        36, 109,  94,  34,  21,  22,  16,  73,  68,   1,  42,  66,   0,\n",
              "       123,  24,   2,  85,  98, 102,   3,  28,   5,  96, 120,  33,  29,\n",
              "        97,  27,  15, 126,  64, 108,  75,  51,  58, 125,  12,  59,  89,\n",
              "       106,  82, 124,  17, 100,  38,  84,   8,  32, 118,  88, 107,   4,\n",
              "        61,  25,  52], dtype=int16)"
            ]
          },
          "execution_count": 177,
          "metadata": {},
          "output_type": "execute_result"
        }
      ],
      "source": [
        "df[\"Cabin\"] .unique()"
      ]
    },
    {
      "cell_type": "code",
      "execution_count": null,
      "id": "b8302cfb-f303-496f-90b1-4a067a56c72e",
      "metadata": {
        "id": "b8302cfb-f303-496f-90b1-4a067a56c72e",
        "outputId": "12be110d-9e88-43ac-9583-30f89f0d8c6e"
      },
      "outputs": [
        {
          "data": {
            "text/html": [
              "<div>\n",
              "<style scoped>\n",
              "    .dataframe tbody tr th:only-of-type {\n",
              "        vertical-align: middle;\n",
              "    }\n",
              "\n",
              "    .dataframe tbody tr th {\n",
              "        vertical-align: top;\n",
              "    }\n",
              "\n",
              "    .dataframe thead th {\n",
              "        text-align: right;\n",
              "    }\n",
              "</style>\n",
              "<table border=\"1\" class=\"dataframe\">\n",
              "  <thead>\n",
              "    <tr style=\"text-align: right;\">\n",
              "      <th></th>\n",
              "      <th>Survived</th>\n",
              "      <th>Pclass</th>\n",
              "      <th>Sex</th>\n",
              "      <th>Age</th>\n",
              "      <th>SibSp</th>\n",
              "      <th>Parch</th>\n",
              "      <th>Fare</th>\n",
              "      <th>Cabin</th>\n",
              "      <th>Embarked</th>\n",
              "    </tr>\n",
              "  </thead>\n",
              "  <tbody>\n",
              "    <tr>\n",
              "      <th>1</th>\n",
              "      <td>1</td>\n",
              "      <td>1</td>\n",
              "      <td>0</td>\n",
              "      <td>38.0</td>\n",
              "      <td>1</td>\n",
              "      <td>0</td>\n",
              "      <td>71.2833</td>\n",
              "      <td>72</td>\n",
              "      <td>C</td>\n",
              "    </tr>\n",
              "    <tr>\n",
              "      <th>3</th>\n",
              "      <td>1</td>\n",
              "      <td>1</td>\n",
              "      <td>0</td>\n",
              "      <td>35.0</td>\n",
              "      <td>1</td>\n",
              "      <td>0</td>\n",
              "      <td>53.1000</td>\n",
              "      <td>48</td>\n",
              "      <td>S</td>\n",
              "    </tr>\n",
              "    <tr>\n",
              "      <th>6</th>\n",
              "      <td>0</td>\n",
              "      <td>1</td>\n",
              "      <td>1</td>\n",
              "      <td>54.0</td>\n",
              "      <td>0</td>\n",
              "      <td>0</td>\n",
              "      <td>51.8625</td>\n",
              "      <td>117</td>\n",
              "      <td>S</td>\n",
              "    </tr>\n",
              "    <tr>\n",
              "      <th>10</th>\n",
              "      <td>1</td>\n",
              "      <td>3</td>\n",
              "      <td>0</td>\n",
              "      <td>4.0</td>\n",
              "      <td>1</td>\n",
              "      <td>1</td>\n",
              "      <td>16.7000</td>\n",
              "      <td>131</td>\n",
              "      <td>S</td>\n",
              "    </tr>\n",
              "    <tr>\n",
              "      <th>11</th>\n",
              "      <td>1</td>\n",
              "      <td>1</td>\n",
              "      <td>0</td>\n",
              "      <td>58.0</td>\n",
              "      <td>0</td>\n",
              "      <td>0</td>\n",
              "      <td>26.5500</td>\n",
              "      <td>43</td>\n",
              "      <td>S</td>\n",
              "    </tr>\n",
              "  </tbody>\n",
              "</table>\n",
              "</div>"
            ],
            "text/plain": [
              "    Survived  Pclass  Sex   Age  SibSp  Parch     Fare  Cabin Embarked\n",
              "1          1       1    0  38.0      1      0  71.2833     72        C\n",
              "3          1       1    0  35.0      1      0  53.1000     48        S\n",
              "6          0       1    1  54.0      0      0  51.8625    117        S\n",
              "10         1       3    0   4.0      1      1  16.7000    131        S\n",
              "11         1       1    0  58.0      0      0  26.5500     43        S"
            ]
          },
          "execution_count": 178,
          "metadata": {},
          "output_type": "execute_result"
        }
      ],
      "source": [
        "df.head()"
      ]
    },
    {
      "cell_type": "code",
      "execution_count": null,
      "id": "186a8749-8ab3-4c63-819c-f52270354ab4",
      "metadata": {
        "id": "186a8749-8ab3-4c63-819c-f52270354ab4",
        "outputId": "bc62744a-c0b5-40f1-c066-9de8ccfe91fb"
      },
      "outputs": [
        {
          "data": {
            "text/plain": [
              "Survived       int64\n",
              "Pclass         int64\n",
              "Sex             int8\n",
              "Age          float64\n",
              "SibSp          int64\n",
              "Parch          int64\n",
              "Fare         float64\n",
              "Cabin          int16\n",
              "Embarked    category\n",
              "dtype: object"
            ]
          },
          "execution_count": 179,
          "metadata": {},
          "output_type": "execute_result"
        }
      ],
      "source": [
        "df.dtypes"
      ]
    },
    {
      "cell_type": "code",
      "execution_count": null,
      "id": "0b9a5465-7de9-4e3d-a96b-406dbc0c0ddb",
      "metadata": {
        "id": "0b9a5465-7de9-4e3d-a96b-406dbc0c0ddb"
      },
      "outputs": [],
      "source": [
        "df[\"Embarked\"] = df[\"Embarked\"].cat.codes"
      ]
    },
    {
      "cell_type": "code",
      "execution_count": null,
      "id": "5981434b-2ac5-4865-883e-74fde736652e",
      "metadata": {
        "tags": [],
        "id": "5981434b-2ac5-4865-883e-74fde736652e",
        "outputId": "0829dc1b-45b3-4662-ceaa-33f39babeb11"
      },
      "outputs": [
        {
          "data": {
            "text/plain": [
              "array([0, 2, 1], dtype=int8)"
            ]
          },
          "execution_count": 181,
          "metadata": {},
          "output_type": "execute_result"
        }
      ],
      "source": [
        "df[\"Embarked\"] .unique()"
      ]
    },
    {
      "cell_type": "code",
      "execution_count": null,
      "id": "0d168904-5b45-4e0e-b7a6-02602d729fc9",
      "metadata": {
        "tags": [],
        "id": "0d168904-5b45-4e0e-b7a6-02602d729fc9",
        "outputId": "5cebf170-643b-40f5-b221-9b7b40a104b3"
      },
      "outputs": [
        {
          "data": {
            "text/html": [
              "<div>\n",
              "<style scoped>\n",
              "    .dataframe tbody tr th:only-of-type {\n",
              "        vertical-align: middle;\n",
              "    }\n",
              "\n",
              "    .dataframe tbody tr th {\n",
              "        vertical-align: top;\n",
              "    }\n",
              "\n",
              "    .dataframe thead th {\n",
              "        text-align: right;\n",
              "    }\n",
              "</style>\n",
              "<table border=\"1\" class=\"dataframe\">\n",
              "  <thead>\n",
              "    <tr style=\"text-align: right;\">\n",
              "      <th></th>\n",
              "      <th>Survived</th>\n",
              "      <th>Pclass</th>\n",
              "      <th>Sex</th>\n",
              "      <th>Age</th>\n",
              "      <th>SibSp</th>\n",
              "      <th>Parch</th>\n",
              "      <th>Fare</th>\n",
              "      <th>Cabin</th>\n",
              "      <th>Embarked</th>\n",
              "    </tr>\n",
              "  </thead>\n",
              "  <tbody>\n",
              "    <tr>\n",
              "      <th>1</th>\n",
              "      <td>1</td>\n",
              "      <td>1</td>\n",
              "      <td>0</td>\n",
              "      <td>38.0</td>\n",
              "      <td>1</td>\n",
              "      <td>0</td>\n",
              "      <td>71.2833</td>\n",
              "      <td>72</td>\n",
              "      <td>0</td>\n",
              "    </tr>\n",
              "    <tr>\n",
              "      <th>3</th>\n",
              "      <td>1</td>\n",
              "      <td>1</td>\n",
              "      <td>0</td>\n",
              "      <td>35.0</td>\n",
              "      <td>1</td>\n",
              "      <td>0</td>\n",
              "      <td>53.1000</td>\n",
              "      <td>48</td>\n",
              "      <td>2</td>\n",
              "    </tr>\n",
              "    <tr>\n",
              "      <th>6</th>\n",
              "      <td>0</td>\n",
              "      <td>1</td>\n",
              "      <td>1</td>\n",
              "      <td>54.0</td>\n",
              "      <td>0</td>\n",
              "      <td>0</td>\n",
              "      <td>51.8625</td>\n",
              "      <td>117</td>\n",
              "      <td>2</td>\n",
              "    </tr>\n",
              "    <tr>\n",
              "      <th>10</th>\n",
              "      <td>1</td>\n",
              "      <td>3</td>\n",
              "      <td>0</td>\n",
              "      <td>4.0</td>\n",
              "      <td>1</td>\n",
              "      <td>1</td>\n",
              "      <td>16.7000</td>\n",
              "      <td>131</td>\n",
              "      <td>2</td>\n",
              "    </tr>\n",
              "    <tr>\n",
              "      <th>11</th>\n",
              "      <td>1</td>\n",
              "      <td>1</td>\n",
              "      <td>0</td>\n",
              "      <td>58.0</td>\n",
              "      <td>0</td>\n",
              "      <td>0</td>\n",
              "      <td>26.5500</td>\n",
              "      <td>43</td>\n",
              "      <td>2</td>\n",
              "    </tr>\n",
              "  </tbody>\n",
              "</table>\n",
              "</div>"
            ],
            "text/plain": [
              "    Survived  Pclass  Sex   Age  SibSp  Parch     Fare  Cabin  Embarked\n",
              "1          1       1    0  38.0      1      0  71.2833     72         0\n",
              "3          1       1    0  35.0      1      0  53.1000     48         2\n",
              "6          0       1    1  54.0      0      0  51.8625    117         2\n",
              "10         1       3    0   4.0      1      1  16.7000    131         2\n",
              "11         1       1    0  58.0      0      0  26.5500     43         2"
            ]
          },
          "execution_count": 182,
          "metadata": {},
          "output_type": "execute_result"
        }
      ],
      "source": [
        "df.head()"
      ]
    },
    {
      "cell_type": "code",
      "execution_count": null,
      "id": "d5a1e5af-39dc-4246-817b-3bfb17723c5b",
      "metadata": {
        "tags": [],
        "id": "d5a1e5af-39dc-4246-817b-3bfb17723c5b",
        "outputId": "77f110d6-352a-4d85-ffe8-a670ddfa3335"
      },
      "outputs": [
        {
          "data": {
            "text/html": [
              "<div>\n",
              "<style scoped>\n",
              "    .dataframe tbody tr th:only-of-type {\n",
              "        vertical-align: middle;\n",
              "    }\n",
              "\n",
              "    .dataframe tbody tr th {\n",
              "        vertical-align: top;\n",
              "    }\n",
              "\n",
              "    .dataframe thead th {\n",
              "        text-align: right;\n",
              "    }\n",
              "</style>\n",
              "<table border=\"1\" class=\"dataframe\">\n",
              "  <thead>\n",
              "    <tr style=\"text-align: right;\">\n",
              "      <th></th>\n",
              "      <th>Pclass</th>\n",
              "      <th>Sex</th>\n",
              "      <th>Age</th>\n",
              "      <th>SibSp</th>\n",
              "      <th>Parch</th>\n",
              "      <th>Fare</th>\n",
              "      <th>Cabin</th>\n",
              "      <th>Embarked</th>\n",
              "    </tr>\n",
              "  </thead>\n",
              "  <tbody>\n",
              "    <tr>\n",
              "      <th>1</th>\n",
              "      <td>1</td>\n",
              "      <td>0</td>\n",
              "      <td>38.0</td>\n",
              "      <td>1</td>\n",
              "      <td>0</td>\n",
              "      <td>71.2833</td>\n",
              "      <td>72</td>\n",
              "      <td>0</td>\n",
              "    </tr>\n",
              "    <tr>\n",
              "      <th>3</th>\n",
              "      <td>1</td>\n",
              "      <td>0</td>\n",
              "      <td>35.0</td>\n",
              "      <td>1</td>\n",
              "      <td>0</td>\n",
              "      <td>53.1000</td>\n",
              "      <td>48</td>\n",
              "      <td>2</td>\n",
              "    </tr>\n",
              "  </tbody>\n",
              "</table>\n",
              "</div>"
            ],
            "text/plain": [
              "   Pclass  Sex   Age  SibSp  Parch     Fare  Cabin  Embarked\n",
              "1       1    0  38.0      1      0  71.2833     72         0\n",
              "3       1    0  35.0      1      0  53.1000     48         2"
            ]
          },
          "execution_count": 183,
          "metadata": {},
          "output_type": "execute_result"
        }
      ],
      "source": [
        "dfx = df.drop(\"Survived\", axis = 1)\n",
        "dfx.head(2)"
      ]
    },
    {
      "cell_type": "code",
      "execution_count": null,
      "id": "8b00f3ec-d387-407b-be3a-32ced8499a57",
      "metadata": {
        "id": "8b00f3ec-d387-407b-be3a-32ced8499a57"
      },
      "outputs": [],
      "source": [
        "dfy = df[\"Survived\"]"
      ]
    },
    {
      "cell_type": "code",
      "execution_count": null,
      "id": "3a217d98-d9c0-446d-bbf2-a884b110a1fc",
      "metadata": {
        "tags": [],
        "id": "3a217d98-d9c0-446d-bbf2-a884b110a1fc",
        "outputId": "5e19b114-4184-4ca2-a37f-c47e039d96d9"
      },
      "outputs": [
        {
          "data": {
            "text/plain": [
              "1     1\n",
              "3     1\n",
              "6     0\n",
              "10    1\n",
              "11    1\n",
              "Name: Survived, dtype: int64"
            ]
          },
          "execution_count": 185,
          "metadata": {},
          "output_type": "execute_result"
        }
      ],
      "source": [
        "dfy.head(5)"
      ]
    },
    {
      "cell_type": "markdown",
      "id": "f56df920-fb0c-41a5-a264-8c7a7a8a81e5",
      "metadata": {
        "id": "f56df920-fb0c-41a5-a264-8c7a7a8a81e5"
      },
      "source": [
        "# Normalize the data set :"
      ]
    },
    {
      "cell_type": "markdown",
      "id": "765e2ce4-b31a-40aa-aaa1-ab986aa9dd6a",
      "metadata": {
        "id": "765e2ce4-b31a-40aa-aaa1-ab986aa9dd6a"
      },
      "source": [
        "##### Normalization is generally required when we are dealing with attributes on a different scale, otherwise, it may lead to a dilution in the effectiveness of an important equally important attribute\n",
        "##### (on a lower scale) because of other attributes having values on a larger scale. In simple words, when multiple attributes are there but attributes have values on different scales,\n",
        "##### this may lead to poor data models while performing data mining operations. So they are normalized to bring all the attributes on the same scale."
      ]
    },
    {
      "cell_type": "markdown",
      "id": "fb2fd65e-4948-4f80-b62c-b5b1657f8029",
      "metadata": {
        "id": "fb2fd65e-4948-4f80-b62c-b5b1657f8029"
      },
      "source": [
        "##  Min-Max Scaling:"
      ]
    },
    {
      "cell_type": "markdown",
      "id": "3303fae6-7d4d-4b51-a90e-b1119506d1f8",
      "metadata": {
        "id": "3303fae6-7d4d-4b51-a90e-b1119506d1f8"
      },
      "source": [
        "##### Min-Max normalization: In this technique of data normalization, a linear transformation is performed on the original data.\n",
        "##### The minimum and maximum value from data are fetched and each value is replaced according to the following formula."
      ]
    },
    {
      "cell_type": "markdown",
      "id": "81df18b6-5e96-4f7a-96c5-2230e99322a6",
      "metadata": {
        "id": "81df18b6-5e96-4f7a-96c5-2230e99322a6"
      },
      "source": [
        "x = (x - min)/(max - min)"
      ]
    },
    {
      "cell_type": "code",
      "execution_count": null,
      "id": "2a76ac39-d6ce-4010-b3e5-2c92094011b2",
      "metadata": {
        "id": "2a76ac39-d6ce-4010-b3e5-2c92094011b2"
      },
      "outputs": [],
      "source": [
        "a = [1,2,3]\n",
        "b = [11,12,13]"
      ]
    },
    {
      "cell_type": "code",
      "execution_count": null,
      "id": "ad20e296-0e0e-4797-a130-41eddc330806",
      "metadata": {
        "id": "ad20e296-0e0e-4797-a130-41eddc330806",
        "outputId": "cd3d6ebe-ec10-46f0-d0f0-af8e18e5b414"
      },
      "outputs": [
        {
          "data": {
            "text/plain": [
              "1.0"
            ]
          },
          "execution_count": 187,
          "metadata": {},
          "output_type": "execute_result"
        }
      ],
      "source": [
        "p = ( 13 -11)/(13-11)\n",
        "p"
      ]
    },
    {
      "cell_type": "code",
      "execution_count": null,
      "id": "50393d41-c8bd-459a-a0c3-9295a408c88c",
      "metadata": {
        "id": "50393d41-c8bd-459a-a0c3-9295a408c88c"
      },
      "outputs": [],
      "source": [
        "a1 = [0,0.5,1]"
      ]
    },
    {
      "cell_type": "code",
      "execution_count": null,
      "id": "26793905-7562-4cde-9a96-f6b2a93a95db",
      "metadata": {
        "id": "26793905-7562-4cde-9a96-f6b2a93a95db"
      },
      "outputs": [],
      "source": [
        "b1 = [0,0.5,1]"
      ]
    },
    {
      "cell_type": "code",
      "execution_count": null,
      "id": "0b5e8894-70e5-45b3-b0b4-c217e19a5515",
      "metadata": {
        "tags": [],
        "id": "0b5e8894-70e5-45b3-b0b4-c217e19a5515",
        "outputId": "9d76ddc4-0732-4ae6-d23d-d1e7b86b8b9c"
      },
      "outputs": [
        {
          "data": {
            "text/html": [
              "<div>\n",
              "<style scoped>\n",
              "    .dataframe tbody tr th:only-of-type {\n",
              "        vertical-align: middle;\n",
              "    }\n",
              "\n",
              "    .dataframe tbody tr th {\n",
              "        vertical-align: top;\n",
              "    }\n",
              "\n",
              "    .dataframe thead th {\n",
              "        text-align: right;\n",
              "    }\n",
              "</style>\n",
              "<table border=\"1\" class=\"dataframe\">\n",
              "  <thead>\n",
              "    <tr style=\"text-align: right;\">\n",
              "      <th></th>\n",
              "      <th>Pclass</th>\n",
              "      <th>Sex</th>\n",
              "      <th>Age</th>\n",
              "      <th>SibSp</th>\n",
              "      <th>Parch</th>\n",
              "      <th>Fare</th>\n",
              "      <th>Cabin</th>\n",
              "      <th>Embarked</th>\n",
              "    </tr>\n",
              "  </thead>\n",
              "  <tbody>\n",
              "    <tr>\n",
              "      <th>1</th>\n",
              "      <td>1</td>\n",
              "      <td>0</td>\n",
              "      <td>38.0</td>\n",
              "      <td>1</td>\n",
              "      <td>0</td>\n",
              "      <td>71.2833</td>\n",
              "      <td>72</td>\n",
              "      <td>0</td>\n",
              "    </tr>\n",
              "    <tr>\n",
              "      <th>3</th>\n",
              "      <td>1</td>\n",
              "      <td>0</td>\n",
              "      <td>35.0</td>\n",
              "      <td>1</td>\n",
              "      <td>0</td>\n",
              "      <td>53.1000</td>\n",
              "      <td>48</td>\n",
              "      <td>2</td>\n",
              "    </tr>\n",
              "    <tr>\n",
              "      <th>6</th>\n",
              "      <td>1</td>\n",
              "      <td>1</td>\n",
              "      <td>54.0</td>\n",
              "      <td>0</td>\n",
              "      <td>0</td>\n",
              "      <td>51.8625</td>\n",
              "      <td>117</td>\n",
              "      <td>2</td>\n",
              "    </tr>\n",
              "    <tr>\n",
              "      <th>10</th>\n",
              "      <td>3</td>\n",
              "      <td>0</td>\n",
              "      <td>4.0</td>\n",
              "      <td>1</td>\n",
              "      <td>1</td>\n",
              "      <td>16.7000</td>\n",
              "      <td>131</td>\n",
              "      <td>2</td>\n",
              "    </tr>\n",
              "    <tr>\n",
              "      <th>11</th>\n",
              "      <td>1</td>\n",
              "      <td>0</td>\n",
              "      <td>58.0</td>\n",
              "      <td>0</td>\n",
              "      <td>0</td>\n",
              "      <td>26.5500</td>\n",
              "      <td>43</td>\n",
              "      <td>2</td>\n",
              "    </tr>\n",
              "  </tbody>\n",
              "</table>\n",
              "</div>"
            ],
            "text/plain": [
              "    Pclass  Sex   Age  SibSp  Parch     Fare  Cabin  Embarked\n",
              "1        1    0  38.0      1      0  71.2833     72         0\n",
              "3        1    0  35.0      1      0  53.1000     48         2\n",
              "6        1    1  54.0      0      0  51.8625    117         2\n",
              "10       3    0   4.0      1      1  16.7000    131         2\n",
              "11       1    0  58.0      0      0  26.5500     43         2"
            ]
          },
          "execution_count": 190,
          "metadata": {},
          "output_type": "execute_result"
        }
      ],
      "source": [
        "dfx.head()"
      ]
    },
    {
      "cell_type": "code",
      "execution_count": null,
      "id": "6c93ec9e-5907-4379-af2e-83e2e31301bf",
      "metadata": {
        "id": "6c93ec9e-5907-4379-af2e-83e2e31301bf"
      },
      "outputs": [],
      "source": [
        "from sklearn.preprocessing import MinMaxScaler"
      ]
    },
    {
      "cell_type": "code",
      "execution_count": null,
      "id": "e15028bd-bbb3-4a0a-99c2-ff4b7cc89275",
      "metadata": {
        "tags": [],
        "id": "e15028bd-bbb3-4a0a-99c2-ff4b7cc89275",
        "outputId": "678e6491-1915-459f-d99c-954f9a7aaab2"
      },
      "outputs": [
        {
          "data": {
            "text/html": [
              "<div>\n",
              "<style scoped>\n",
              "    .dataframe tbody tr th:only-of-type {\n",
              "        vertical-align: middle;\n",
              "    }\n",
              "\n",
              "    .dataframe tbody tr th {\n",
              "        vertical-align: top;\n",
              "    }\n",
              "\n",
              "    .dataframe thead th {\n",
              "        text-align: right;\n",
              "    }\n",
              "</style>\n",
              "<table border=\"1\" class=\"dataframe\">\n",
              "  <thead>\n",
              "    <tr style=\"text-align: right;\">\n",
              "      <th></th>\n",
              "      <th>Pclass</th>\n",
              "      <th>Sex</th>\n",
              "      <th>Age</th>\n",
              "      <th>SibSp</th>\n",
              "      <th>Parch</th>\n",
              "      <th>Fare</th>\n",
              "      <th>Cabin</th>\n",
              "      <th>Embarked</th>\n",
              "    </tr>\n",
              "  </thead>\n",
              "  <tbody>\n",
              "    <tr>\n",
              "      <th>0</th>\n",
              "      <td>0.0</td>\n",
              "      <td>0.0</td>\n",
              "      <td>0.468892</td>\n",
              "      <td>0.333333</td>\n",
              "      <td>0.00</td>\n",
              "      <td>0.139136</td>\n",
              "      <td>0.545455</td>\n",
              "      <td>0.0</td>\n",
              "    </tr>\n",
              "    <tr>\n",
              "      <th>1</th>\n",
              "      <td>0.0</td>\n",
              "      <td>0.0</td>\n",
              "      <td>0.430956</td>\n",
              "      <td>0.333333</td>\n",
              "      <td>0.00</td>\n",
              "      <td>0.103644</td>\n",
              "      <td>0.363636</td>\n",
              "      <td>1.0</td>\n",
              "    </tr>\n",
              "    <tr>\n",
              "      <th>2</th>\n",
              "      <td>0.0</td>\n",
              "      <td>1.0</td>\n",
              "      <td>0.671219</td>\n",
              "      <td>0.000000</td>\n",
              "      <td>0.00</td>\n",
              "      <td>0.101229</td>\n",
              "      <td>0.886364</td>\n",
              "      <td>1.0</td>\n",
              "    </tr>\n",
              "    <tr>\n",
              "      <th>3</th>\n",
              "      <td>1.0</td>\n",
              "      <td>0.0</td>\n",
              "      <td>0.038948</td>\n",
              "      <td>0.333333</td>\n",
              "      <td>0.25</td>\n",
              "      <td>0.032596</td>\n",
              "      <td>0.992424</td>\n",
              "      <td>1.0</td>\n",
              "    </tr>\n",
              "    <tr>\n",
              "      <th>4</th>\n",
              "      <td>0.0</td>\n",
              "      <td>0.0</td>\n",
              "      <td>0.721801</td>\n",
              "      <td>0.000000</td>\n",
              "      <td>0.00</td>\n",
              "      <td>0.051822</td>\n",
              "      <td>0.325758</td>\n",
              "      <td>1.0</td>\n",
              "    </tr>\n",
              "  </tbody>\n",
              "</table>\n",
              "</div>"
            ],
            "text/plain": [
              "   Pclass  Sex       Age     SibSp  Parch      Fare     Cabin  Embarked\n",
              "0     0.0  0.0  0.468892  0.333333   0.00  0.139136  0.545455       0.0\n",
              "1     0.0  0.0  0.430956  0.333333   0.00  0.103644  0.363636       1.0\n",
              "2     0.0  1.0  0.671219  0.000000   0.00  0.101229  0.886364       1.0\n",
              "3     1.0  0.0  0.038948  0.333333   0.25  0.032596  0.992424       1.0\n",
              "4     0.0  0.0  0.721801  0.000000   0.00  0.051822  0.325758       1.0"
            ]
          },
          "execution_count": 192,
          "metadata": {},
          "output_type": "execute_result"
        }
      ],
      "source": [
        "scaler = MinMaxScaler()\n",
        "scaler_dfx = pd.DataFrame(scaler.fit_transform(dfx),columns = dfx.columns)\n",
        "scaler_dfx.head(5)"
      ]
    },
    {
      "cell_type": "code",
      "execution_count": null,
      "id": "88ef790c-29dd-4451-b1af-54c5ff86b8f5",
      "metadata": {
        "id": "88ef790c-29dd-4451-b1af-54c5ff86b8f5"
      },
      "outputs": [],
      "source": [
        "from sklearn.model_selection import train_test_split"
      ]
    },
    {
      "cell_type": "code",
      "execution_count": null,
      "id": "b31798e7-5b35-4d88-aee9-a5cad1eb2ddb",
      "metadata": {
        "id": "b31798e7-5b35-4d88-aee9-a5cad1eb2ddb"
      },
      "outputs": [],
      "source": [
        "input_train,input_test,output_train,output_test = train_test_split(scaler_dfx,dfy,test_size = 0.2, random_state = 1)"
      ]
    },
    {
      "cell_type": "code",
      "execution_count": null,
      "id": "45ba3d8d-626d-4141-bb0f-bc747a9430c7",
      "metadata": {
        "id": "45ba3d8d-626d-4141-bb0f-bc747a9430c7",
        "outputId": "7d1ddafa-6e3d-49c6-fd4a-93baa0c673f6"
      },
      "outputs": [
        {
          "data": {
            "text/plain": [
              "array([1, 0], dtype=int64)"
            ]
          },
          "execution_count": 195,
          "metadata": {},
          "output_type": "execute_result"
        }
      ],
      "source": [
        "output_train.unique()"
      ]
    },
    {
      "cell_type": "code",
      "execution_count": null,
      "id": "0cedbb39-84ed-4ea0-b492-c05c9850f8ab",
      "metadata": {
        "id": "0cedbb39-84ed-4ea0-b492-c05c9850f8ab",
        "outputId": "9b3d9abc-7b72-4e82-fd88-9540514bde42"
      },
      "outputs": [
        {
          "data": {
            "text/plain": [
              "1    99\n",
              "0    47\n",
              "Name: Survived, dtype: int64"
            ]
          },
          "execution_count": 127,
          "metadata": {},
          "output_type": "execute_result"
        }
      ],
      "source": [
        "output_train.value_counts()"
      ]
    },
    {
      "cell_type": "markdown",
      "id": "777836ae-3d74-46d0-bd36-bd20f9aad8fc",
      "metadata": {
        "id": "777836ae-3d74-46d0-bd36-bd20f9aad8fc"
      },
      "source": [
        "# define undersampling Strategy"
      ]
    },
    {
      "cell_type": "markdown",
      "id": "c7b1eaa7-a419-4f14-b2fe-96251a28b1da",
      "metadata": {
        "id": "c7b1eaa7-a419-4f14-b2fe-96251a28b1da"
      },
      "source": [
        "#### Random Resampling Imbalanced Datasets\n",
        "##### Resampling involves creating a new transformed version of the training dataset in which the selected examples have a different class distribution."
      ]
    },
    {
      "cell_type": "markdown",
      "id": "ac22b3c9-b171-4172-9d7b-5b86646ae379",
      "metadata": {
        "id": "ac22b3c9-b171-4172-9d7b-5b86646ae379"
      },
      "source": [
        "### Random Undersampling: Randomly delete examples in the majority class."
      ]
    },
    {
      "cell_type": "markdown",
      "id": "a5339746-7fc2-4190-9860-39ac76719aab",
      "metadata": {
        "id": "a5339746-7fc2-4190-9860-39ac76719aab"
      },
      "source": [
        "#### In the random under-sampling, the majority class instances are discarded at random until a more balanced distribution is reached."
      ]
    },
    {
      "cell_type": "markdown",
      "id": "3d673401-492f-468e-a844-00c93ff56644",
      "metadata": {
        "id": "3d673401-492f-468e-a844-00c93ff56644"
      },
      "source": [
        "#### Random under sampling approaches can be repeated until the desired class distribution is achieved in the training dataset, such as an equal split across the classes."
      ]
    },
    {
      "cell_type": "code",
      "execution_count": null,
      "id": "56680c69-5a02-4b98-96fb-b6b8a4b3813e",
      "metadata": {
        "id": "56680c69-5a02-4b98-96fb-b6b8a4b3813e",
        "outputId": "41631aa7-a0c0-4982-f16b-3b95f300b008"
      },
      "outputs": [
        {
          "name": "stdout",
          "output_type": "stream",
          "text": [
            "Requirement already satisfied: imblearn in c:\\users\\savita seharawat\\anaconda3\\lib\\site-packages (0.0)\n",
            "Requirement already satisfied: imbalanced-learn in c:\\users\\savita seharawat\\anaconda3\\lib\\site-packages (from imblearn) (0.9.1)\n",
            "Requirement already satisfied: scikit-learn>=1.1.0 in c:\\users\\savita seharawat\\anaconda3\\lib\\site-packages (from imbalanced-learn->imblearn) (1.1.1)\n",
            "Requirement already satisfied: scipy>=1.3.2 in c:\\users\\savita seharawat\\anaconda3\\lib\\site-packages (from imbalanced-learn->imblearn) (1.7.3)\n",
            "Requirement already satisfied: threadpoolctl>=2.0.0 in c:\\users\\savita seharawat\\anaconda3\\lib\\site-packages (from imbalanced-learn->imblearn) (2.2.0)\n",
            "Requirement already satisfied: joblib>=1.0.0 in c:\\users\\savita seharawat\\anaconda3\\lib\\site-packages (from imbalanced-learn->imblearn) (1.1.0)\n",
            "Requirement already satisfied: numpy>=1.17.3 in c:\\users\\savita seharawat\\anaconda3\\lib\\site-packages (from imbalanced-learn->imblearn) (1.21.5)\n"
          ]
        }
      ],
      "source": [
        "! pip install imblearn # imbalanced learn"
      ]
    },
    {
      "cell_type": "code",
      "execution_count": null,
      "id": "9c4a80f7-96fb-490d-8e5b-cec149bb168d",
      "metadata": {
        "id": "9c4a80f7-96fb-490d-8e5b-cec149bb168d"
      },
      "outputs": [],
      "source": [
        "from imblearn.under_sampling import RandomUnderSampler"
      ]
    },
    {
      "cell_type": "code",
      "execution_count": null,
      "id": "23bdded2-993f-434d-9912-4341a7202c76",
      "metadata": {
        "id": "23bdded2-993f-434d-9912-4341a7202c76"
      },
      "outputs": [],
      "source": [
        "# fit and apply the transform"
      ]
    },
    {
      "cell_type": "code",
      "execution_count": null,
      "id": "5148fa6b-e976-4f82-b944-2b75b83c890b",
      "metadata": {
        "id": "5148fa6b-e976-4f82-b944-2b75b83c890b"
      },
      "outputs": [],
      "source": [
        "undersampler = RandomUnderSampler( sampling_strategy = \"majority\",random_state = 2)"
      ]
    },
    {
      "cell_type": "code",
      "execution_count": null,
      "id": "a5411ed5-05df-4b7e-a619-e8e2c9fef4dd",
      "metadata": {
        "id": "a5411ed5-05df-4b7e-a619-e8e2c9fef4dd"
      },
      "outputs": [],
      "source": [
        "input_train_under,output_train_under = undersampler.fit_resample(input_train,output_train)"
      ]
    },
    {
      "cell_type": "code",
      "execution_count": null,
      "id": "477f12ec-7e72-4911-a940-d12bc48fc06f",
      "metadata": {
        "id": "477f12ec-7e72-4911-a940-d12bc48fc06f",
        "outputId": "538fc695-9d5d-4f58-e16e-61a7b05ccedd"
      },
      "outputs": [
        {
          "data": {
            "text/plain": [
              "0    47\n",
              "1    47\n",
              "Name: Survived, dtype: int64"
            ]
          },
          "execution_count": 135,
          "metadata": {},
          "output_type": "execute_result"
        }
      ],
      "source": [
        "output_train_under.value_counts()"
      ]
    },
    {
      "cell_type": "markdown",
      "id": "216e0fc3-2d82-4ec8-a807-b020d9cc1e74",
      "metadata": {
        "id": "216e0fc3-2d82-4ec8-a807-b020d9cc1e74"
      },
      "source": [
        "# KNN  algorithm"
      ]
    },
    {
      "cell_type": "code",
      "execution_count": null,
      "id": "253880f4-d6eb-48a0-b47e-30298bd794db",
      "metadata": {
        "id": "253880f4-d6eb-48a0-b47e-30298bd794db"
      },
      "outputs": [],
      "source": [
        "from sklearn.neighbors import KNeighborsClassifier"
      ]
    },
    {
      "cell_type": "code",
      "execution_count": null,
      "id": "fc769b22-06c9-4d2b-866d-9ad9f0de065e",
      "metadata": {
        "id": "fc769b22-06c9-4d2b-866d-9ad9f0de065e",
        "outputId": "84389046-14f5-4ad8-a1ce-8eb27f964e3b"
      },
      "outputs": [
        {
          "data": {
            "text/html": [
              "<style>#sk-container-id-1 {color: black;background-color: white;}#sk-container-id-1 pre{padding: 0;}#sk-container-id-1 div.sk-toggleable {background-color: white;}#sk-container-id-1 label.sk-toggleable__label {cursor: pointer;display: block;width: 100%;margin-bottom: 0;padding: 0.3em;box-sizing: border-box;text-align: center;}#sk-container-id-1 label.sk-toggleable__label-arrow:before {content: \"▸\";float: left;margin-right: 0.25em;color: #696969;}#sk-container-id-1 label.sk-toggleable__label-arrow:hover:before {color: black;}#sk-container-id-1 div.sk-estimator:hover label.sk-toggleable__label-arrow:before {color: black;}#sk-container-id-1 div.sk-toggleable__content {max-height: 0;max-width: 0;overflow: hidden;text-align: left;background-color: #f0f8ff;}#sk-container-id-1 div.sk-toggleable__content pre {margin: 0.2em;color: black;border-radius: 0.25em;background-color: #f0f8ff;}#sk-container-id-1 input.sk-toggleable__control:checked~div.sk-toggleable__content {max-height: 200px;max-width: 100%;overflow: auto;}#sk-container-id-1 input.sk-toggleable__control:checked~label.sk-toggleable__label-arrow:before {content: \"▾\";}#sk-container-id-1 div.sk-estimator input.sk-toggleable__control:checked~label.sk-toggleable__label {background-color: #d4ebff;}#sk-container-id-1 div.sk-label input.sk-toggleable__control:checked~label.sk-toggleable__label {background-color: #d4ebff;}#sk-container-id-1 input.sk-hidden--visually {border: 0;clip: rect(1px 1px 1px 1px);clip: rect(1px, 1px, 1px, 1px);height: 1px;margin: -1px;overflow: hidden;padding: 0;position: absolute;width: 1px;}#sk-container-id-1 div.sk-estimator {font-family: monospace;background-color: #f0f8ff;border: 1px dotted black;border-radius: 0.25em;box-sizing: border-box;margin-bottom: 0.5em;}#sk-container-id-1 div.sk-estimator:hover {background-color: #d4ebff;}#sk-container-id-1 div.sk-parallel-item::after {content: \"\";width: 100%;border-bottom: 1px solid gray;flex-grow: 1;}#sk-container-id-1 div.sk-label:hover label.sk-toggleable__label {background-color: #d4ebff;}#sk-container-id-1 div.sk-serial::before {content: \"\";position: absolute;border-left: 1px solid gray;box-sizing: border-box;top: 0;bottom: 0;left: 50%;z-index: 0;}#sk-container-id-1 div.sk-serial {display: flex;flex-direction: column;align-items: center;background-color: white;padding-right: 0.2em;padding-left: 0.2em;position: relative;}#sk-container-id-1 div.sk-item {position: relative;z-index: 1;}#sk-container-id-1 div.sk-parallel {display: flex;align-items: stretch;justify-content: center;background-color: white;position: relative;}#sk-container-id-1 div.sk-item::before, #sk-container-id-1 div.sk-parallel-item::before {content: \"\";position: absolute;border-left: 1px solid gray;box-sizing: border-box;top: 0;bottom: 0;left: 50%;z-index: -1;}#sk-container-id-1 div.sk-parallel-item {display: flex;flex-direction: column;z-index: 1;position: relative;background-color: white;}#sk-container-id-1 div.sk-parallel-item:first-child::after {align-self: flex-end;width: 50%;}#sk-container-id-1 div.sk-parallel-item:last-child::after {align-self: flex-start;width: 50%;}#sk-container-id-1 div.sk-parallel-item:only-child::after {width: 0;}#sk-container-id-1 div.sk-dashed-wrapped {border: 1px dashed gray;margin: 0 0.4em 0.5em 0.4em;box-sizing: border-box;padding-bottom: 0.4em;background-color: white;}#sk-container-id-1 div.sk-label label {font-family: monospace;font-weight: bold;display: inline-block;line-height: 1.2em;}#sk-container-id-1 div.sk-label-container {text-align: center;}#sk-container-id-1 div.sk-container {/* jupyter's `normalize.less` sets `[hidden] { display: none; }` but bootstrap.min.css set `[hidden] { display: none !important; }` so we also need the `!important` here to be able to override the default hidden behavior on the sphinx rendered scikit-learn.org. See: https://github.com/scikit-learn/scikit-learn/issues/21755 */display: inline-block !important;position: relative;}#sk-container-id-1 div.sk-text-repr-fallback {display: none;}</style><div id=\"sk-container-id-1\" class=\"sk-top-container\"><div class=\"sk-text-repr-fallback\"><pre>KNeighborsClassifier()</pre><b>In a Jupyter environment, please rerun this cell to show the HTML representation or trust the notebook. <br />On GitHub, the HTML representation is unable to render, please try loading this page with nbviewer.org.</b></div><div class=\"sk-container\" hidden><div class=\"sk-item\"><div class=\"sk-estimator sk-toggleable\"><input class=\"sk-toggleable__control sk-hidden--visually\" id=\"sk-estimator-id-1\" type=\"checkbox\" checked><label for=\"sk-estimator-id-1\" class=\"sk-toggleable__label sk-toggleable__label-arrow\">KNeighborsClassifier</label><div class=\"sk-toggleable__content\"><pre>KNeighborsClassifier()</pre></div></div></div></div></div>"
            ],
            "text/plain": [
              "KNeighborsClassifier()"
            ]
          },
          "execution_count": 137,
          "metadata": {},
          "output_type": "execute_result"
        }
      ],
      "source": [
        "KNN = KNeighborsClassifier()\n",
        "KNN"
      ]
    },
    {
      "cell_type": "code",
      "execution_count": null,
      "id": "6cf5726b-ad6d-4974-98c1-1ded477f254c",
      "metadata": {
        "id": "6cf5726b-ad6d-4974-98c1-1ded477f254c",
        "outputId": "a7be396f-9de0-4b49-b49e-5b05968090cb"
      },
      "outputs": [
        {
          "data": {
            "text/html": [
              "<style>#sk-container-id-2 {color: black;background-color: white;}#sk-container-id-2 pre{padding: 0;}#sk-container-id-2 div.sk-toggleable {background-color: white;}#sk-container-id-2 label.sk-toggleable__label {cursor: pointer;display: block;width: 100%;margin-bottom: 0;padding: 0.3em;box-sizing: border-box;text-align: center;}#sk-container-id-2 label.sk-toggleable__label-arrow:before {content: \"▸\";float: left;margin-right: 0.25em;color: #696969;}#sk-container-id-2 label.sk-toggleable__label-arrow:hover:before {color: black;}#sk-container-id-2 div.sk-estimator:hover label.sk-toggleable__label-arrow:before {color: black;}#sk-container-id-2 div.sk-toggleable__content {max-height: 0;max-width: 0;overflow: hidden;text-align: left;background-color: #f0f8ff;}#sk-container-id-2 div.sk-toggleable__content pre {margin: 0.2em;color: black;border-radius: 0.25em;background-color: #f0f8ff;}#sk-container-id-2 input.sk-toggleable__control:checked~div.sk-toggleable__content {max-height: 200px;max-width: 100%;overflow: auto;}#sk-container-id-2 input.sk-toggleable__control:checked~label.sk-toggleable__label-arrow:before {content: \"▾\";}#sk-container-id-2 div.sk-estimator input.sk-toggleable__control:checked~label.sk-toggleable__label {background-color: #d4ebff;}#sk-container-id-2 div.sk-label input.sk-toggleable__control:checked~label.sk-toggleable__label {background-color: #d4ebff;}#sk-container-id-2 input.sk-hidden--visually {border: 0;clip: rect(1px 1px 1px 1px);clip: rect(1px, 1px, 1px, 1px);height: 1px;margin: -1px;overflow: hidden;padding: 0;position: absolute;width: 1px;}#sk-container-id-2 div.sk-estimator {font-family: monospace;background-color: #f0f8ff;border: 1px dotted black;border-radius: 0.25em;box-sizing: border-box;margin-bottom: 0.5em;}#sk-container-id-2 div.sk-estimator:hover {background-color: #d4ebff;}#sk-container-id-2 div.sk-parallel-item::after {content: \"\";width: 100%;border-bottom: 1px solid gray;flex-grow: 1;}#sk-container-id-2 div.sk-label:hover label.sk-toggleable__label {background-color: #d4ebff;}#sk-container-id-2 div.sk-serial::before {content: \"\";position: absolute;border-left: 1px solid gray;box-sizing: border-box;top: 0;bottom: 0;left: 50%;z-index: 0;}#sk-container-id-2 div.sk-serial {display: flex;flex-direction: column;align-items: center;background-color: white;padding-right: 0.2em;padding-left: 0.2em;position: relative;}#sk-container-id-2 div.sk-item {position: relative;z-index: 1;}#sk-container-id-2 div.sk-parallel {display: flex;align-items: stretch;justify-content: center;background-color: white;position: relative;}#sk-container-id-2 div.sk-item::before, #sk-container-id-2 div.sk-parallel-item::before {content: \"\";position: absolute;border-left: 1px solid gray;box-sizing: border-box;top: 0;bottom: 0;left: 50%;z-index: -1;}#sk-container-id-2 div.sk-parallel-item {display: flex;flex-direction: column;z-index: 1;position: relative;background-color: white;}#sk-container-id-2 div.sk-parallel-item:first-child::after {align-self: flex-end;width: 50%;}#sk-container-id-2 div.sk-parallel-item:last-child::after {align-self: flex-start;width: 50%;}#sk-container-id-2 div.sk-parallel-item:only-child::after {width: 0;}#sk-container-id-2 div.sk-dashed-wrapped {border: 1px dashed gray;margin: 0 0.4em 0.5em 0.4em;box-sizing: border-box;padding-bottom: 0.4em;background-color: white;}#sk-container-id-2 div.sk-label label {font-family: monospace;font-weight: bold;display: inline-block;line-height: 1.2em;}#sk-container-id-2 div.sk-label-container {text-align: center;}#sk-container-id-2 div.sk-container {/* jupyter's `normalize.less` sets `[hidden] { display: none; }` but bootstrap.min.css set `[hidden] { display: none !important; }` so we also need the `!important` here to be able to override the default hidden behavior on the sphinx rendered scikit-learn.org. See: https://github.com/scikit-learn/scikit-learn/issues/21755 */display: inline-block !important;position: relative;}#sk-container-id-2 div.sk-text-repr-fallback {display: none;}</style><div id=\"sk-container-id-2\" class=\"sk-top-container\"><div class=\"sk-text-repr-fallback\"><pre>KNeighborsClassifier()</pre><b>In a Jupyter environment, please rerun this cell to show the HTML representation or trust the notebook. <br />On GitHub, the HTML representation is unable to render, please try loading this page with nbviewer.org.</b></div><div class=\"sk-container\" hidden><div class=\"sk-item\"><div class=\"sk-estimator sk-toggleable\"><input class=\"sk-toggleable__control sk-hidden--visually\" id=\"sk-estimator-id-2\" type=\"checkbox\" checked><label for=\"sk-estimator-id-2\" class=\"sk-toggleable__label sk-toggleable__label-arrow\">KNeighborsClassifier</label><div class=\"sk-toggleable__content\"><pre>KNeighborsClassifier()</pre></div></div></div></div></div>"
            ],
            "text/plain": [
              "KNeighborsClassifier()"
            ]
          },
          "execution_count": 138,
          "metadata": {},
          "output_type": "execute_result"
        }
      ],
      "source": [
        "Knn = KNN.fit(input_train_under,output_train_under)\n",
        "Knn"
      ]
    },
    {
      "cell_type": "code",
      "execution_count": null,
      "id": "63b714a4-e7fb-4970-b6ed-5a66925ed800",
      "metadata": {
        "id": "63b714a4-e7fb-4970-b6ed-5a66925ed800",
        "outputId": "b0d9e3b5-e604-4b6d-a12b-dc0f999140e5"
      },
      "outputs": [
        {
          "data": {
            "text/plain": [
              "array([1, 0, 1, 1, 1, 0, 0, 0, 1, 1, 0, 1, 0, 1, 0, 1, 1, 0, 1, 0, 0, 1,\n",
              "       1, 0, 1, 1, 0, 1, 1, 1, 0, 0, 0, 1, 0, 0, 1], dtype=int64)"
            ]
          },
          "execution_count": 139,
          "metadata": {},
          "output_type": "execute_result"
        }
      ],
      "source": [
        "pred_test = Knn.predict(input_test)\n",
        "pred_test"
      ]
    },
    {
      "cell_type": "code",
      "execution_count": null,
      "id": "a3670287-8ad1-4594-ac13-7b02373fa20d",
      "metadata": {
        "collapsed": true,
        "jupyter": {
          "outputs_hidden": true
        },
        "tags": [],
        "id": "a3670287-8ad1-4594-ac13-7b02373fa20d",
        "outputId": "ed73b6e1-c008-432f-e869-61909cd578ab"
      },
      "outputs": [
        {
          "data": {
            "text/plain": [
              "297    0\n",
              "456    0\n",
              "581    1\n",
              "871    1\n",
              "268    1\n",
              "789    0\n",
              "193    1\n",
              "867    0\n",
              "730    1\n",
              "585    1\n",
              "97     1\n",
              "540    1\n",
              "625    0\n",
              "66     1\n",
              "390    1\n",
              "11     1\n",
              "473    1\n",
              "92     0\n",
              "177    0\n",
              "118    0\n",
              "462    0\n",
              "558    1\n",
              "609    1\n",
              "453    1\n",
              "269    1\n",
              "781    1\n",
              "429    1\n",
              "307    1\n",
              "251    0\n",
              "765    1\n",
              "583    0\n",
              "209    1\n",
              "245    0\n",
              "311    1\n",
              "102    0\n",
              "21     1\n",
              "516    1\n",
              "Name: Survived, dtype: int64"
            ]
          },
          "execution_count": 140,
          "metadata": {},
          "output_type": "execute_result"
        }
      ],
      "source": [
        "output_test"
      ]
    },
    {
      "cell_type": "code",
      "execution_count": null,
      "id": "fe8e6feb-fd63-492a-88a4-7767a466a4c8",
      "metadata": {
        "id": "fe8e6feb-fd63-492a-88a4-7767a466a4c8"
      },
      "outputs": [],
      "source": [
        "from sklearn.metrics import accuracy_score"
      ]
    },
    {
      "cell_type": "code",
      "execution_count": null,
      "id": "981dc6ec-271f-486c-a47b-452201b8abc6",
      "metadata": {
        "id": "981dc6ec-271f-486c-a47b-452201b8abc6",
        "outputId": "50ecb483-6c2f-4b22-adbf-5f3702e2515f"
      },
      "outputs": [
        {
          "data": {
            "text/plain": [
              "73.0"
            ]
          },
          "execution_count": 142,
          "metadata": {},
          "output_type": "execute_result"
        }
      ],
      "source": [
        "accuracy_score_knn = round(accuracy_score(output_test,pred_test)*100,0)\n",
        "accuracy_score_knn"
      ]
    }
  ],
  "metadata": {
    "kernelspec": {
      "display_name": "Python 3 (ipykernel)",
      "language": "python",
      "name": "python3"
    },
    "language_info": {
      "codemirror_mode": {
        "name": "ipython",
        "version": 3
      },
      "file_extension": ".py",
      "mimetype": "text/x-python",
      "name": "python",
      "nbconvert_exporter": "python",
      "pygments_lexer": "ipython3",
      "version": "3.9.13"
    },
    "colab": {
      "provenance": []
    }
  },
  "nbformat": 4,
  "nbformat_minor": 5
}